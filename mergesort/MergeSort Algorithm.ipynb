{
 "cells": [
  {
   "cell_type": "code",
   "execution_count": 13,
   "metadata": {
    "collapsed": true
   },
   "outputs": [],
   "source": [
    "def sort(a):\n",
    "    if len(a) == 1:\n",
    "        return a\n",
    "    l1 = sort(a[:len(a) / 2])\n",
    "    l2 = sort(a[len(a) / 2:])\n",
    "    return merge(l1, l2)"
   ]
  },
  {
   "cell_type": "code",
   "execution_count": 14,
   "metadata": {
    "collapsed": true
   },
   "outputs": [],
   "source": [
    "def merge(l1, l2):\n",
    "    c = []\n",
    "    while len(l1) != 0 and len(l2) != 0:\n",
    "        if l1[0] < l2[0]:\n",
    "            c.append(l1[0])\n",
    "            l1.pop(0)\n",
    "        else:\n",
    "            c.append(l2[0])\n",
    "            l2.pop(0)\n",
    "    while len(l1) != 0:\n",
    "        c.append(l1[0])\n",
    "        l1.pop(0)\n",
    "    while len(l2) != 0:\n",
    "        c.append(l2[0])\n",
    "        l2.pop(0)\n",
    "    return c"
   ]
  },
  {
   "cell_type": "code",
   "execution_count": 17,
   "metadata": {
    "collapsed": false
   },
   "outputs": [
    {
     "data": {
      "text/plain": [
       "[1, 2, 3, 4, 5, 6, 7, 8]"
      ]
     },
     "execution_count": 17,
     "metadata": {},
     "output_type": "execute_result"
    }
   ],
   "source": [
    "sort([4,5,1,8,7,2,6,3])"
   ]
  }
 ],
 "metadata": {
  "kernelspec": {
   "display_name": "Python 2",
   "language": "python",
   "name": "python2"
  },
  "language_info": {
   "codemirror_mode": {
    "name": "ipython",
    "version": 2
   },
   "file_extension": ".py",
   "mimetype": "text/x-python",
   "name": "python",
   "nbconvert_exporter": "python",
   "pygments_lexer": "ipython2",
   "version": "2.7.13"
  }
 },
 "nbformat": 4,
 "nbformat_minor": 2
}
