{
 "cells": [
  {
   "cell_type": "code",
   "execution_count": 16,
   "metadata": {
    "collapsed": true
   },
   "outputs": [],
   "source": [
    "def partition(a, l, r):\n",
    "    p = a[l]\n",
    "    i = l + 1\n",
    "    for j in range(i, len(a)):\n",
    "        if a[j] < p:\n",
    "            tmp1 = a[i]\n",
    "            tmp2 = a[j]\n",
    "            a[i] = tmp2\n",
    "            a[j] = tmp1\n",
    "            i += 1\n",
    "    tmp3 = a[l]\n",
    "    tmp4 = a[i-1]\n",
    "    a[l] = tmp4\n",
    "    a[i-1] = tmp3\n",
    "    return a"
   ]
  },
  {
   "cell_type": "code",
   "execution_count": 19,
   "metadata": {
    "collapsed": false
   },
   "outputs": [
    {
     "data": {
      "text/plain": [
       "[1, 5, 4, 6, 3, 2, 31]"
      ]
     },
     "execution_count": 19,
     "metadata": {},
     "output_type": "execute_result"
    }
   ],
   "source": [
    "partition([31,5,4,6,3,2,1],0,5)"
   ]
  },
  {
   "cell_type": "code",
   "execution_count": null,
   "metadata": {
    "collapsed": true
   },
   "outputs": [],
   "source": []
  }
 ],
 "metadata": {
  "kernelspec": {
   "display_name": "Python 2",
   "language": "python",
   "name": "python2"
  },
  "language_info": {
   "codemirror_mode": {
    "name": "ipython",
    "version": 2
   },
   "file_extension": ".py",
   "mimetype": "text/x-python",
   "name": "python",
   "nbconvert_exporter": "python",
   "pygments_lexer": "ipython2",
   "version": "2.7.13"
  }
 },
 "nbformat": 4,
 "nbformat_minor": 2
}
