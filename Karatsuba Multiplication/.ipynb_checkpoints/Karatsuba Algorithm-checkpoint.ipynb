{
 "cells": [
  {
   "cell_type": "code",
   "execution_count": 57,
   "metadata": {
    "collapsed": false
   },
   "outputs": [],
   "source": [
    "prod1 = 3141592653589793238462643383279502884197169399375105820974944592 * 2718281828459045235360287471352662497757247093699959574966967627"
   ]
  },
  {
   "cell_type": "code",
   "execution_count": 58,
   "metadata": {
    "collapsed": true
   },
   "outputs": [],
   "source": [
    "'''\n",
    "Pseudocode:\n",
    "\n",
    "procedure karatsuba(num1, num2)\n",
    "  if (num1 < 10) or (num2 < 10)\n",
    "    return num1*num2\n",
    "  /* calculates the size of the numbers */\n",
    "  m = max(size_base10(num1), size_base10(num2))\n",
    "  m2 = m/2\n",
    "  /* split the digit sequences about the middle */\n",
    "  high1, low1 = split_at(num1, m2)\n",
    "  high2, low2 = split_at(num2, m2)\n",
    "  /* 3 calls made to numbers approximately half the size */\n",
    "  z0 = karatsuba(low1,low2)\n",
    "  z1 = karatsuba((low1+high1),(low2+high2))\n",
    "  z2 = karatsuba(high1,high2)\n",
    "  return (z2*10^(2*m2))+((z1-z2-z0)*10^(m2))+(z0)\n",
    "'''\n",
    "\n",
    "def karatsuba(num1, num2):\n",
    "    if (num1 < 10) or (num2 < 10):\n",
    "        return num1 * num2\n",
    "    # calculates the size of the numbers #\n",
    "    m = max(len(str(num1)),len(str(num2)))\n",
    "    m2 = m / 2\n",
    "    # split the digit sequences about the middle #\n",
    "    low1 = num1 / 10**(m2)\n",
    "    high1 = num1 % 10**(m2)\n",
    "    low2 = num2 / 10**(m2)\n",
    "    high2 = num2 % 10**(m2)\n",
    "    # 3 calls made to numbers approximately half the sizr #\n",
    "    z0 = karatsuba(high1, high2)\n",
    "    z1 = karatsuba((low1 + high1), (low2 + high2))\n",
    "    z2 = karatsuba(low1, low2)\n",
    "    return z2 * 10 ** (2 * m2) + ((z1 - z2 - z0) * 10 ** (m2)) + (z0)"
   ]
  },
  {
   "cell_type": "code",
   "execution_count": 59,
   "metadata": {
    "collapsed": false
   },
   "outputs": [],
   "source": [
    "prod2 = karatsuba(3141592653589793238462643383279502884197169399375105820974944592, 2718281828459045235360287471352662497757247093699959574966967627)"
   ]
  },
  {
   "cell_type": "code",
   "execution_count": 61,
   "metadata": {
    "collapsed": false
   },
   "outputs": [
    {
     "data": {
      "text/plain": [
       "True"
      ]
     },
     "execution_count": 61,
     "metadata": {},
     "output_type": "execute_result"
    }
   ],
   "source": [
    "prod1 == prod2"
   ]
  },
  {
   "cell_type": "code",
   "execution_count": 62,
   "metadata": {
    "collapsed": false
   },
   "outputs": [
    {
     "data": {
      "text/plain": [
       "8539734222673567065463550869546574495034888535765114961879601127067743044893204848617875072216249073013374895871952806582723184L"
      ]
     },
     "execution_count": 62,
     "metadata": {},
     "output_type": "execute_result"
    }
   ],
   "source": [
    "prod2"
   ]
  }
 ],
 "metadata": {
  "kernelspec": {
   "display_name": "Python 2",
   "language": "python",
   "name": "python2"
  },
  "language_info": {
   "codemirror_mode": {
    "name": "ipython",
    "version": 2
   },
   "file_extension": ".py",
   "mimetype": "text/x-python",
   "name": "python",
   "nbconvert_exporter": "python",
   "pygments_lexer": "ipython2",
   "version": "2.7.13"
  }
 },
 "nbformat": 4,
 "nbformat_minor": 2
}
