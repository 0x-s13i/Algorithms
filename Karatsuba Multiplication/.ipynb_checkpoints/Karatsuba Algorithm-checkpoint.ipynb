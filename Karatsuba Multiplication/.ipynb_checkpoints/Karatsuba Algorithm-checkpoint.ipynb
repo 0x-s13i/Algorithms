{
 "cells": [
  {
   "cell_type": "code",
   "execution_count": 72,
   "metadata": {
    "collapsed": false
   },
   "outputs": [],
   "source": [
    "def karatsuba(num1, num2):\n",
    "    if (num1 < 10) or (num2 < 10):\n",
    "        return num1 * num2\n",
    "    \n",
    "    str1 = str(num1)\n",
    "    str2 = str(num2)\n",
    "    \n",
    "    m = max(pow(10,len(str1) / 2), pow(10, len(str2) / 2))\n",
    "    \n",
    "    # pow(10,len(str(num1)) / 2)\n",
    "    \n",
    "    m2 = m / 2\n",
    "\n",
    "    high1 = str1[:len(str1) / 2]\n",
    "    low1 = str1[len(str1) / 2:]\n",
    "    high2 = str2[:len(str1) / 2]\n",
    "    low2 = str2[len(str1) / 2:]\n",
    "    \n",
    "    # a[:len(a) / 2]\n",
    "    \n",
    "    # print \"h1 = \", high1, \" l1 = \", low1, \" h2 = \", high2, \" l2 = \", low2\n",
    "    \n",
    "    high1 = long(high1)\n",
    "    low1 = long(low1)\n",
    "    high2 = long(high2)\n",
    "    low2 = long(low2)\n",
    "    \n",
    "    z0 = karatsuba(low1, low2)\n",
    "    z1 = karatsuba((low1 + high1), (low2 + high2))\n",
    "    z2 = karatsuba(high1, high2)\n",
    "    return (z2 * 10 ** (2 * m2)) + ((z1 - z2 - z0) * 10 ** (m2)) + (z0)"
   ]
  },
  {
   "cell_type": "code",
   "execution_count": null,
   "metadata": {
    "collapsed": false
   },
   "outputs": [],
   "source": [
    "karatsuba(3141592653589793238462643383279502884197169399375105820974944592, 2718281828459045235360287471352662497757247093699959574966967627)"
   ]
  },
  {
   "cell_type": "code",
   "execution_count": 56,
   "metadata": {
    "collapsed": false
   },
   "outputs": [
    {
     "data": {
      "text/plain": [
       "8100L"
      ]
     },
     "execution_count": 56,
     "metadata": {},
     "output_type": "execute_result"
    }
   ],
   "source": [
    "karatsuba(360,360)"
   ]
  },
  {
   "cell_type": "code",
   "execution_count": 57,
   "metadata": {
    "collapsed": false
   },
   "outputs": [
    {
     "data": {
      "text/plain": [
       "129600"
      ]
     },
     "execution_count": 57,
     "metadata": {},
     "output_type": "execute_result"
    }
   ],
   "source": [
    "360 * 360"
   ]
  },
  {
   "cell_type": "code",
   "execution_count": 58,
   "metadata": {
    "collapsed": false
   },
   "outputs": [
    {
     "data": {
      "text/plain": [
       "8539734222673567065463550869546574495034888535765114961879601127067743044893204848617875072216249073013374895871952806582723184L"
      ]
     },
     "execution_count": 58,
     "metadata": {},
     "output_type": "execute_result"
    }
   ],
   "source": [
    "3141592653589793238462643383279502884197169399375105820974944592 * 2718281828459045235360287471352662497757247093699959574966967627"
   ]
  }
 ],
 "metadata": {
  "kernelspec": {
   "display_name": "Python 2",
   "language": "python",
   "name": "python2"
  },
  "language_info": {
   "codemirror_mode": {
    "name": "ipython",
    "version": 2
   },
   "file_extension": ".py",
   "mimetype": "text/x-python",
   "name": "python",
   "nbconvert_exporter": "python",
   "pygments_lexer": "ipython2",
   "version": "2.7.13"
  }
 },
 "nbformat": 4,
 "nbformat_minor": 2
}
