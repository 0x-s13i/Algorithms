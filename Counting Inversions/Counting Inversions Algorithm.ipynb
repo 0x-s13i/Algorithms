{
 "cells": [
  {
   "cell_type": "code",
   "execution_count": 1,
   "metadata": {
    "collapsed": true
   },
   "outputs": [],
   "source": [
    "def sort(a):\n",
    "    if len(a) == 1:\n",
    "        return a\n",
    "    l1 = sort(a[:len(a) / 2])\n",
    "    l2 = sort(a[len(a) / 2:])\n",
    "    return merge(l1, l2)"
   ]
  },
  {
   "cell_type": "code",
   "execution_count": 2,
   "metadata": {
    "collapsed": true
   },
   "outputs": [],
   "source": [
    "def merge(l1, l2):\n",
    "    c = []\n",
    "    while len(l1) != 0 and len(l2) != 0:\n",
    "        if l1[0] < l2[0]:\n",
    "            c.append(l1[0])\n",
    "            l1.pop(0)\n",
    "        else:\n",
    "            c.append(l2[0])\n",
    "            l2.pop(0)\n",
    "    while len(l1) != 0:\n",
    "        c.append(l1[0])\n",
    "        l1.pop(0)\n",
    "    while len(l2) != 0:\n",
    "        c.append(l2[0])\n",
    "        l2.pop(0)\n",
    "    return c"
   ]
  },
  {
   "cell_type": "code",
   "execution_count": 3,
   "metadata": {
    "collapsed": false
   },
   "outputs": [],
   "source": [
    "def count_inversions(x):\n",
    "    a = x\n",
    "    b = sort(x)\n",
    "    inversions = 0\n",
    "    for i in range(len(a)):\n",
    "        num_to_find = a[0]\n",
    "        i += 1\n",
    "        for j in range(len(b)):\n",
    "            if b[j] == num_to_find:\n",
    "                inversions += j\n",
    "                a.pop(0)\n",
    "                b.pop(j)\n",
    "                break\n",
    "    return inversions"
   ]
  },
  {
   "cell_type": "code",
   "execution_count": 4,
   "metadata": {
    "collapsed": false,
    "scrolled": true
   },
   "outputs": [
    {
     "data": {
      "text/plain": [
       "5"
      ]
     },
     "execution_count": 4,
     "metadata": {},
     "output_type": "execute_result"
    }
   ],
   "source": [
    "count_inversions([4, 1, 3, 2, 9, 5])"
   ]
  }
 ],
 "metadata": {
  "kernelspec": {
   "display_name": "Python 2",
   "language": "python",
   "name": "python2"
  },
  "language_info": {
   "codemirror_mode": {
    "name": "ipython",
    "version": 2
   },
   "file_extension": ".py",
   "mimetype": "text/x-python",
   "name": "python",
   "nbconvert_exporter": "python",
   "pygments_lexer": "ipython2",
   "version": "2.7.13"
  }
 },
 "nbformat": 4,
 "nbformat_minor": 2
}
